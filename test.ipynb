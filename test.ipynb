{
 "cells": [
  {
   "cell_type": "markdown",
   "metadata": {},
   "source": [
    "# test.ipynb: test everything\n",
    "- Try some byte operations"
   ]
  },
  {
   "cell_type": "code",
   "execution_count": 1,
   "metadata": {},
   "outputs": [],
   "source": [
    "import struct\n",
    "import numpy as np\n",
    "\n",
    "data = b'\\x10\\x01\\xfe\\xff'\n",
    "t = np.frombuffer(data, dtype=np.int16).astype('i4')\n",
    "sq=np.square(t)\n",
    "mn=np.mean(sq)\n",
    "rms=np.sqrt(mn)\n",
    "vu=np.log10(rms)"
   ]
  },
  {
   "cell_type": "markdown",
   "metadata": {},
   "source": [
    "- Pack a short integer array to a byte string"
   ]
  },
  {
   "cell_type": "code",
   "execution_count": 13,
   "metadata": {},
   "outputs": [],
   "source": [
    "ia= [256, 728, 137, 12]\n",
    "bs=b''\n",
    "for i in ia:\n",
    "    bs+=struct.pack('<h', i)"
   ]
  },
  {
   "cell_type": "markdown",
   "metadata": {},
   "source": [
    "- Yet another way to pack a short integer array to a byte string\n",
    "- The * operator unpack a list to individual arguments"
   ]
  },
  {
   "cell_type": "code",
   "execution_count": 14,
   "metadata": {},
   "outputs": [],
   "source": [
    "yabs = struct.pack(f'<{len(ia)}h',*ia)"
   ]
  },
  {
   "cell_type": "markdown",
   "metadata": {},
   "source": [
    "- Try queue"
   ]
  },
  {
   "cell_type": "code",
   "execution_count": 55,
   "metadata": {},
   "outputs": [],
   "source": [
    "from queue import Queue\n",
    "import numpy as np\n",
    "import matplotlib.pyplot as plt\n",
    "\n",
    "smpl_rate = 44100  # samplimg rate, hz\n",
    "tim_intrv = 8     # time interval, second\n",
    "fq_carrier = 9\n",
    "fq_mssg = 1.8\n",
    "f_delta = 0.31\n",
    "t = np.arange(smpl_rate * tim_intrv)\n",
    "xm = np.sin(2 * np.pi * fq_mssg * t / smpl_rate)\n",
    "f_of_y = [fq_carrier + f_delta*i for i in xm]\n",
    "y= np.sin(2 * (np.pi * (fq_carrier + f_delta*xm[t]) * t / smpl_rate) + 0.27)"
   ]
  },
  {
   "cell_type": "code",
   "execution_count": 6,
   "metadata": {},
   "outputs": [],
   "source": [
    "transc = list()\n",
    "transc.append('No. one str')\n",
    "transc.append('No. two')\n",
    "transc.append('3')"
   ]
  }
 ],
 "metadata": {
  "kernelspec": {
   "display_name": "Python 3",
   "language": "python",
   "name": "python3"
  },
  "language_info": {
   "codemirror_mode": {
    "name": "ipython",
    "version": 3
   },
   "file_extension": ".py",
   "mimetype": "text/x-python",
   "name": "python",
   "nbconvert_exporter": "python",
   "pygments_lexer": "ipython3",
   "version": "3.10.10"
  }
 },
 "nbformat": 4,
 "nbformat_minor": 2
}
